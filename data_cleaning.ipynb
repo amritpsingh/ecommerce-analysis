{
 "cells": [
  {
   "cell_type": "markdown",
   "id": "ebd2fe6c-0a62-4d99-bd0c-02b45cf7ce08",
   "metadata": {},
   "source": [
    "# E-commerce Dataset Analysis: Uncovering Data Quality Insights"
   ]
  },
  {
   "cell_type": "code",
   "execution_count": 1,
   "id": "05943200-0921-4988-9c43-573acbd61b26",
   "metadata": {},
   "outputs": [],
   "source": [
    "import pandas as pd\n",
    "import numpy as np\n",
    "\n",
    "import matplotlib.pyplot as plt\n",
    "import seaborn as sns\n",
    "\n",
    "import warnings\n",
    "warnings.filterwarnings('ignore')\n",
    "\n",
    "pd.options.display.max_columns = None\n",
    "pd.set_option('display.max_rows', 100)\n",
    "pd.set_option('display.float_format', lambda x: '%.2f' % x)"
   ]
  },
  {
   "cell_type": "code",
   "execution_count": 2,
   "id": "6c776383-c3f5-45ec-b9c1-f4cf0f6883be",
   "metadata": {},
   "outputs": [
    {
     "data": {
      "text/html": [
       "<div>\n",
       "<style scoped>\n",
       "    .dataframe tbody tr th:only-of-type {\n",
       "        vertical-align: middle;\n",
       "    }\n",
       "\n",
       "    .dataframe tbody tr th {\n",
       "        vertical-align: top;\n",
       "    }\n",
       "\n",
       "    .dataframe thead th {\n",
       "        text-align: right;\n",
       "    }\n",
       "</style>\n",
       "<table border=\"1\" class=\"dataframe\">\n",
       "  <thead>\n",
       "    <tr style=\"text-align: right;\">\n",
       "      <th></th>\n",
       "      <th>Order_Date</th>\n",
       "      <th>Time</th>\n",
       "      <th>Aging</th>\n",
       "      <th>Customer_Id</th>\n",
       "      <th>Gender</th>\n",
       "      <th>Device_Type</th>\n",
       "      <th>Customer_Login_type</th>\n",
       "      <th>Product_Category</th>\n",
       "      <th>Product</th>\n",
       "      <th>Sales</th>\n",
       "      <th>Quantity</th>\n",
       "      <th>Discount</th>\n",
       "      <th>Profit</th>\n",
       "      <th>Shipping_Cost</th>\n",
       "      <th>Order_Priority</th>\n",
       "      <th>Payment_method</th>\n",
       "    </tr>\n",
       "  </thead>\n",
       "  <tbody>\n",
       "    <tr>\n",
       "      <th>0</th>\n",
       "      <td>2018-01-02</td>\n",
       "      <td>10:56:33</td>\n",
       "      <td>8.00</td>\n",
       "      <td>37077</td>\n",
       "      <td>Female</td>\n",
       "      <td>Web</td>\n",
       "      <td>Member</td>\n",
       "      <td>Auto &amp; Accessories</td>\n",
       "      <td>Car Media Players</td>\n",
       "      <td>140.00</td>\n",
       "      <td>1.00</td>\n",
       "      <td>0.30</td>\n",
       "      <td>46.00</td>\n",
       "      <td>4.60</td>\n",
       "      <td>Medium</td>\n",
       "      <td>credit_card</td>\n",
       "    </tr>\n",
       "    <tr>\n",
       "      <th>1</th>\n",
       "      <td>2018-07-24</td>\n",
       "      <td>20:41:37</td>\n",
       "      <td>2.00</td>\n",
       "      <td>59173</td>\n",
       "      <td>Female</td>\n",
       "      <td>Web</td>\n",
       "      <td>Member</td>\n",
       "      <td>Auto &amp; Accessories</td>\n",
       "      <td>Car Speakers</td>\n",
       "      <td>211.00</td>\n",
       "      <td>1.00</td>\n",
       "      <td>0.30</td>\n",
       "      <td>112.00</td>\n",
       "      <td>11.20</td>\n",
       "      <td>Medium</td>\n",
       "      <td>credit_card</td>\n",
       "    </tr>\n",
       "    <tr>\n",
       "      <th>2</th>\n",
       "      <td>2018-11-08</td>\n",
       "      <td>08:38:49</td>\n",
       "      <td>8.00</td>\n",
       "      <td>41066</td>\n",
       "      <td>Female</td>\n",
       "      <td>Web</td>\n",
       "      <td>Member</td>\n",
       "      <td>Auto &amp; Accessories</td>\n",
       "      <td>Car Body Covers</td>\n",
       "      <td>117.00</td>\n",
       "      <td>5.00</td>\n",
       "      <td>0.10</td>\n",
       "      <td>31.20</td>\n",
       "      <td>3.10</td>\n",
       "      <td>Critical</td>\n",
       "      <td>credit_card</td>\n",
       "    </tr>\n",
       "    <tr>\n",
       "      <th>3</th>\n",
       "      <td>2018-04-18</td>\n",
       "      <td>19:28:06</td>\n",
       "      <td>7.00</td>\n",
       "      <td>50741</td>\n",
       "      <td>Female</td>\n",
       "      <td>Web</td>\n",
       "      <td>Member</td>\n",
       "      <td>Auto &amp; Accessories</td>\n",
       "      <td>Car &amp; Bike Care</td>\n",
       "      <td>118.00</td>\n",
       "      <td>1.00</td>\n",
       "      <td>0.30</td>\n",
       "      <td>26.20</td>\n",
       "      <td>2.60</td>\n",
       "      <td>High</td>\n",
       "      <td>credit_card</td>\n",
       "    </tr>\n",
       "    <tr>\n",
       "      <th>4</th>\n",
       "      <td>2018-08-13</td>\n",
       "      <td>21:18:39</td>\n",
       "      <td>9.00</td>\n",
       "      <td>53639</td>\n",
       "      <td>Female</td>\n",
       "      <td>Web</td>\n",
       "      <td>Member</td>\n",
       "      <td>Auto &amp; Accessories</td>\n",
       "      <td>Tyre</td>\n",
       "      <td>250.00</td>\n",
       "      <td>1.00</td>\n",
       "      <td>0.30</td>\n",
       "      <td>160.00</td>\n",
       "      <td>16.00</td>\n",
       "      <td>Critical</td>\n",
       "      <td>credit_card</td>\n",
       "    </tr>\n",
       "  </tbody>\n",
       "</table>\n",
       "</div>"
      ],
      "text/plain": [
       "   Order_Date      Time  Aging  Customer_Id  Gender Device_Type  \\\n",
       "0  2018-01-02  10:56:33   8.00        37077  Female         Web   \n",
       "1  2018-07-24  20:41:37   2.00        59173  Female         Web   \n",
       "2  2018-11-08  08:38:49   8.00        41066  Female         Web   \n",
       "3  2018-04-18  19:28:06   7.00        50741  Female         Web   \n",
       "4  2018-08-13  21:18:39   9.00        53639  Female         Web   \n",
       "\n",
       "  Customer_Login_type    Product_Category            Product  Sales  Quantity  \\\n",
       "0              Member  Auto & Accessories  Car Media Players 140.00      1.00   \n",
       "1              Member  Auto & Accessories       Car Speakers 211.00      1.00   \n",
       "2              Member  Auto & Accessories    Car Body Covers 117.00      5.00   \n",
       "3              Member  Auto & Accessories    Car & Bike Care 118.00      1.00   \n",
       "4              Member  Auto & Accessories               Tyre 250.00      1.00   \n",
       "\n",
       "   Discount  Profit  Shipping_Cost Order_Priority Payment_method  \n",
       "0      0.30   46.00           4.60         Medium    credit_card  \n",
       "1      0.30  112.00          11.20         Medium    credit_card  \n",
       "2      0.10   31.20           3.10       Critical    credit_card  \n",
       "3      0.30   26.20           2.60           High    credit_card  \n",
       "4      0.30  160.00          16.00       Critical    credit_card  "
      ]
     },
     "execution_count": 2,
     "metadata": {},
     "output_type": "execute_result"
    }
   ],
   "source": [
    "df = pd.read_csv('Ecommerce_dataset.csv')\n",
    "df.head()"
   ]
  },
  {
   "cell_type": "code",
   "execution_count": 3,
   "id": "304fe971-9edc-4b8d-952f-b52199a6882d",
   "metadata": {},
   "outputs": [
    {
     "name": "stdout",
     "output_type": "stream",
     "text": [
      "Dataset Shape: (51290, 16)\n",
      "\n",
      "Column Names and Data Types:\n",
      "Order_Date              object\n",
      "Time                    object\n",
      "Aging                  float64\n",
      "Customer_Id              int64\n",
      "Gender                  object\n",
      "Device_Type             object\n",
      "Customer_Login_type     object\n",
      "Product_Category        object\n",
      "Product                 object\n",
      "Sales                  float64\n",
      "Quantity               float64\n",
      "Discount               float64\n",
      "Profit                 float64\n",
      "Shipping_Cost          float64\n",
      "Order_Priority          object\n",
      "Payment_method          object\n",
      "dtype: object\n",
      "\n",
      "Dataset Info:\n",
      "<class 'pandas.core.frame.DataFrame'>\n",
      "RangeIndex: 51290 entries, 0 to 51289\n",
      "Data columns (total 16 columns):\n",
      " #   Column               Non-Null Count  Dtype  \n",
      "---  ------               --------------  -----  \n",
      " 0   Order_Date           51290 non-null  object \n",
      " 1   Time                 51290 non-null  object \n",
      " 2   Aging                51289 non-null  float64\n",
      " 3   Customer_Id          51290 non-null  int64  \n",
      " 4   Gender               51290 non-null  object \n",
      " 5   Device_Type          51290 non-null  object \n",
      " 6   Customer_Login_type  51290 non-null  object \n",
      " 7   Product_Category     51290 non-null  object \n",
      " 8   Product              51290 non-null  object \n",
      " 9   Sales                51289 non-null  float64\n",
      " 10  Quantity             51288 non-null  float64\n",
      " 11  Discount             51289 non-null  float64\n",
      " 12  Profit               51290 non-null  float64\n",
      " 13  Shipping_Cost        51289 non-null  float64\n",
      " 14  Order_Priority       51288 non-null  object \n",
      " 15  Payment_method       51290 non-null  object \n",
      "dtypes: float64(6), int64(1), object(9)\n",
      "memory usage: 6.3+ MB\n",
      "\n",
      "Missing Values Count:\n",
      "Order_Date             0\n",
      "Time                   0\n",
      "Aging                  1\n",
      "Customer_Id            0\n",
      "Gender                 0\n",
      "Device_Type            0\n",
      "Customer_Login_type    0\n",
      "Product_Category       0\n",
      "Product                0\n",
      "Sales                  1\n",
      "Quantity               2\n",
      "Discount               1\n",
      "Profit                 0\n",
      "Shipping_Cost          1\n",
      "Order_Priority         2\n",
      "Payment_method         0\n",
      "dtype: int64\n",
      "\n",
      "Missing Values Percentage:\n",
      "Order_Date            0.00\n",
      "Time                  0.00\n",
      "Aging                 0.00\n",
      "Customer_Id           0.00\n",
      "Gender                0.00\n",
      "Device_Type           0.00\n",
      "Customer_Login_type   0.00\n",
      "Product_Category      0.00\n",
      "Product               0.00\n",
      "Sales                 0.00\n",
      "Quantity              0.00\n",
      "Discount              0.00\n",
      "Profit                0.00\n",
      "Shipping_Cost         0.00\n",
      "Order_Priority        0.00\n",
      "Payment_method        0.00\n",
      "dtype: float64\n"
     ]
    }
   ],
   "source": [
    "# Basic dataset information\n",
    "print(\"Dataset Shape:\", df.shape)\n",
    "print(\"\\nColumn Names and Data Types:\")\n",
    "print(df.dtypes)\n",
    "print(\"\\nDataset Info:\")\n",
    "df.info()\n",
    "print(\"\\nMissing Values Count:\")\n",
    "print(df.isnull().sum())\n",
    "print(\"\\nMissing Values Percentage:\")\n",
    "print((df.isnull().sum() / len(df) * 100).round(2))"
   ]
  },
  {
   "cell_type": "code",
   "execution_count": 4,
   "id": "04bc83ff-10a5-4ac6-a03d-4556255316c6",
   "metadata": {},
   "outputs": [
    {
     "name": "stdout",
     "output_type": "stream",
     "text": [
      "\n",
      "Numerical Column Statistics:\n"
     ]
    },
    {
     "data": {
      "text/html": [
       "<div>\n",
       "<style scoped>\n",
       "    .dataframe tbody tr th:only-of-type {\n",
       "        vertical-align: middle;\n",
       "    }\n",
       "\n",
       "    .dataframe tbody tr th {\n",
       "        vertical-align: top;\n",
       "    }\n",
       "\n",
       "    .dataframe thead th {\n",
       "        text-align: right;\n",
       "    }\n",
       "</style>\n",
       "<table border=\"1\" class=\"dataframe\">\n",
       "  <thead>\n",
       "    <tr style=\"text-align: right;\">\n",
       "      <th></th>\n",
       "      <th>Aging</th>\n",
       "      <th>Customer_Id</th>\n",
       "      <th>Sales</th>\n",
       "      <th>Quantity</th>\n",
       "      <th>Discount</th>\n",
       "      <th>Profit</th>\n",
       "      <th>Shipping_Cost</th>\n",
       "    </tr>\n",
       "  </thead>\n",
       "  <tbody>\n",
       "    <tr>\n",
       "      <th>count</th>\n",
       "      <td>51289.00</td>\n",
       "      <td>51290.00</td>\n",
       "      <td>51289.00</td>\n",
       "      <td>51288.00</td>\n",
       "      <td>51289.00</td>\n",
       "      <td>51290.00</td>\n",
       "      <td>51289.00</td>\n",
       "    </tr>\n",
       "    <tr>\n",
       "      <th>mean</th>\n",
       "      <td>5.26</td>\n",
       "      <td>58155.76</td>\n",
       "      <td>152.34</td>\n",
       "      <td>2.50</td>\n",
       "      <td>0.30</td>\n",
       "      <td>70.41</td>\n",
       "      <td>7.04</td>\n",
       "    </tr>\n",
       "    <tr>\n",
       "      <th>std</th>\n",
       "      <td>2.96</td>\n",
       "      <td>26032.22</td>\n",
       "      <td>66.50</td>\n",
       "      <td>1.51</td>\n",
       "      <td>0.13</td>\n",
       "      <td>48.73</td>\n",
       "      <td>4.87</td>\n",
       "    </tr>\n",
       "    <tr>\n",
       "      <th>min</th>\n",
       "      <td>1.00</td>\n",
       "      <td>10000.00</td>\n",
       "      <td>33.00</td>\n",
       "      <td>1.00</td>\n",
       "      <td>0.10</td>\n",
       "      <td>0.50</td>\n",
       "      <td>0.10</td>\n",
       "    </tr>\n",
       "    <tr>\n",
       "      <th>25%</th>\n",
       "      <td>3.00</td>\n",
       "      <td>35831.25</td>\n",
       "      <td>85.00</td>\n",
       "      <td>1.00</td>\n",
       "      <td>0.20</td>\n",
       "      <td>24.90</td>\n",
       "      <td>2.50</td>\n",
       "    </tr>\n",
       "    <tr>\n",
       "      <th>50%</th>\n",
       "      <td>5.00</td>\n",
       "      <td>61018.00</td>\n",
       "      <td>133.00</td>\n",
       "      <td>2.00</td>\n",
       "      <td>0.30</td>\n",
       "      <td>59.90</td>\n",
       "      <td>6.00</td>\n",
       "    </tr>\n",
       "    <tr>\n",
       "      <th>75%</th>\n",
       "      <td>8.00</td>\n",
       "      <td>80736.25</td>\n",
       "      <td>218.00</td>\n",
       "      <td>4.00</td>\n",
       "      <td>0.40</td>\n",
       "      <td>118.40</td>\n",
       "      <td>11.80</td>\n",
       "    </tr>\n",
       "    <tr>\n",
       "      <th>max</th>\n",
       "      <td>10.50</td>\n",
       "      <td>99999.00</td>\n",
       "      <td>250.00</td>\n",
       "      <td>5.00</td>\n",
       "      <td>0.50</td>\n",
       "      <td>167.50</td>\n",
       "      <td>16.80</td>\n",
       "    </tr>\n",
       "  </tbody>\n",
       "</table>\n",
       "</div>"
      ],
      "text/plain": [
       "         Aging  Customer_Id    Sales  Quantity  Discount   Profit  \\\n",
       "count 51289.00     51290.00 51289.00  51288.00  51289.00 51290.00   \n",
       "mean      5.26     58155.76   152.34      2.50      0.30    70.41   \n",
       "std       2.96     26032.22    66.50      1.51      0.13    48.73   \n",
       "min       1.00     10000.00    33.00      1.00      0.10     0.50   \n",
       "25%       3.00     35831.25    85.00      1.00      0.20    24.90   \n",
       "50%       5.00     61018.00   133.00      2.00      0.30    59.90   \n",
       "75%       8.00     80736.25   218.00      4.00      0.40   118.40   \n",
       "max      10.50     99999.00   250.00      5.00      0.50   167.50   \n",
       "\n",
       "       Shipping_Cost  \n",
       "count       51289.00  \n",
       "mean            7.04  \n",
       "std             4.87  \n",
       "min             0.10  \n",
       "25%             2.50  \n",
       "50%             6.00  \n",
       "75%            11.80  \n",
       "max            16.80  "
      ]
     },
     "execution_count": 4,
     "metadata": {},
     "output_type": "execute_result"
    }
   ],
   "source": [
    "# Summary statistics for numerical columns\n",
    "print(\"\\nNumerical Column Statistics:\")\n",
    "df.describe()\n",
    "\n"
   ]
  },
  {
   "cell_type": "code",
   "execution_count": 5,
   "id": "f5116e5f-654d-42a8-9502-df0720db6796",
   "metadata": {},
   "outputs": [
    {
     "name": "stdout",
     "output_type": "stream",
     "text": [
      "\n",
      "Unique Values in Categorical Columns:\n",
      "Order_Date: 356 unique values\n",
      "\n",
      "Values: ['2018-01-02' '2018-07-24' '2018-11-08' '2018-04-18' '2018-08-13'\n",
      " '2018-07-09' '2018-05-16' '2018-06-23' '2018-07-29' '2018-07-13']\n",
      "--------------------------------------------------\n",
      "Time: 35275 unique values\n",
      "\n",
      "Values: ['10:56:33' '20:41:37' '08:38:49' '19:28:06' '21:18:39' '21:57:05'\n",
      " '13:10:30' '18:29:09' '11:55:02' '19:41:10']\n",
      "--------------------------------------------------\n",
      "Gender: 2 unique values\n",
      "\n",
      "Values: ['Female' 'Male']\n",
      "--------------------------------------------------\n",
      "Device_Type: 2 unique values\n",
      "\n",
      "Values: ['Web' 'Mobile']\n",
      "--------------------------------------------------\n",
      "Customer_Login_type: 4 unique values\n",
      "\n",
      "Values: ['Member' 'Guest' 'New ' 'First SignUp']\n",
      "--------------------------------------------------\n",
      "Product_Category: 4 unique values\n",
      "\n",
      "Values: ['Auto & Accessories' 'Fashion' 'Electronic' 'Home & Furniture']\n",
      "--------------------------------------------------\n",
      "Product: 42 unique values\n",
      "\n",
      "Values: ['Car Media Players' 'Car Speakers' 'Car Body Covers' 'Car & Bike Care'\n",
      " 'Tyre' 'Bike Tyres' 'Car Mat' 'Car Seat Covers' 'Car Pillow & Neck Rest'\n",
      " 'Shirts']\n",
      "--------------------------------------------------\n",
      "Order_Priority: 4 unique values\n",
      "\n",
      "Values: ['Medium' 'Critical' 'High' nan 'Low']\n",
      "--------------------------------------------------\n",
      "Payment_method: 5 unique values\n",
      "\n",
      "Values: ['credit_card' 'money_order' 'e_wallet' 'debit_card' 'not_defined']\n",
      "--------------------------------------------------\n"
     ]
    }
   ],
   "source": [
    "# Check unique values for categorical columns\n",
    "categorical_cols = df.select_dtypes(include=['object']).columns\n",
    "print(\"\\nUnique Values in Categorical Columns:\")\n",
    "for col in categorical_cols:\n",
    "    print(f\"{col}: {df[col].nunique()} unique values\")\n",
    "    print(f\"\\nValues: {df[col].unique()[:10]}\")  # Show first 10 unique values\n",
    "    print(\"-\" * 50)"
   ]
  },
  {
   "cell_type": "markdown",
   "id": "02204674-c498-41ed-8053-ac94cdeaaf14",
   "metadata": {},
   "source": [
    "### Data Overview:\n",
    "- **Size:** 51,290 transactions with 16 features\n",
    "- **Data Quality:** Only 6 missing values across all columns (<0.01%)\n",
    "- **Profit Metrics:** Average profit $70.41 per transaction\n",
    "\n",
    "### Key Observations:\n",
    "1. **Product Diversity:** 4 main categories, 42 specific products\n",
    "2. **Customer Segments:**\n",
    "    - 2 genders\n",
    "    - 2 device types (Web, Mobile)\n",
    "    - 4 login types (Member, Guest, New, First SignUp)\n",
    "3. **Financial Metrics:**\n",
    "    - Sales range: $33-$250 per transaction\n",
    "    - Quantity: 1-5 items per order\n",
    "    - Discount: 10-50% (avg 30.7%)\n",
    "    - Profit: $0.50-$167.50 per transaction\n",
    "4. **Operational Aspects:**\n",
    "    - 4 orders priorities\n",
    "    - 5 payment methods\n",
    "    - Shipping costs: $0.10-$16.80\n",
    "    - Delivery aging: 1-10.5 days\n",
    "\n",
    "\n",
    "\n",
    "\n",
    "## Data Cleaning and Transformation: Building a Foundation for Analysis\n",
    "\n",
    "In any data analysis project, the quality of insights depends entirely on the quality of the underlying data. This section details the systematic approach I took to clean, validate, and transform the e-commerce dataset, ensuring that all subsequent analyses rest on solid ground.\n",
    "\n",
    "\n",
    "For this e-commerce dataset, I've identified several areas requiring attention:\n",
    "- Missing values that could skew our analysis\n",
    "- Data type inconsistencies that might cause calculation errors  \n",
    "- Formatting issues that could prevent proper grouping\n",
    "- Business logic validations to ensure data makes sense"
   ]
  },
  {
   "cell_type": "code",
   "execution_count": 6,
   "id": "a5e03149-e090-4593-9b54-d4fa14c5263f",
   "metadata": {},
   "outputs": [],
   "source": [
    "# Make a copy of dataframe for cleaning\n",
    "df_clean = df.copy()"
   ]
  },
  {
   "cell_type": "markdown",
   "id": "3ac04ba5-dccd-4c96-865c-0bc398036fa5",
   "metadata": {},
   "source": [
    "#### Converting Data Types for Analysis\n",
    "\n",
    "Proper data types are essential for accurate calculations and time-based analysis. Here's standardized data types:"
   ]
  },
  {
   "cell_type": "code",
   "execution_count": 7,
   "id": "897de996-6f0c-4011-8328-8414b9963549",
   "metadata": {},
   "outputs": [],
   "source": [
    "# Create a combined datetime column\n",
    "df_clean['Order_DateTime'] = pd.to_datetime(df_clean['Order_Date'] + ' ' + df_clean['Time'])\n",
    "\n",
    "# Convert date to datetime\n",
    "df_clean['Order_Date'] = pd.to_datetime(df_clean['Order_Date'], format='%Y-%m-%d')\n",
    "\n",
    "# Extract useful time components for analysis\n",
    "df_clean['Year'] = df_clean['Order_Date'].dt.year\n",
    "df_clean['Month'] = df_clean['Order_Date'].dt.month\n",
    "df_clean['Day'] = df_clean['Order_Date'].dt.day\n",
    "df_clean['Week'] = df_clean['Order_Date'].dt.isocalendar().week\n",
    "df_clean['Weekday'] = df_clean['Order_Date'].dt.day_name()\n",
    "df_clean['Hour'] = df_clean['Order_DateTime'].dt.hour"
   ]
  },
  {
   "cell_type": "code",
   "execution_count": 8,
   "id": "8bff6dc1-8bb1-40ed-a420-e099f4028766",
   "metadata": {},
   "outputs": [
    {
     "name": "stdout",
     "output_type": "stream",
     "text": [
      "Data types after conversion:\n",
      "Order_Date             datetime64[ns]\n",
      "Time                           object\n",
      "Aging                         float64\n",
      "Customer_Id                     int64\n",
      "Gender                         object\n",
      "Device_Type                    object\n",
      "Customer_Login_type            object\n",
      "Product_Category               object\n",
      "Product                        object\n",
      "Sales                         float64\n",
      "Quantity                      float64\n",
      "Discount                      float64\n",
      "Profit                        float64\n",
      "Shipping_Cost                 float64\n",
      "Order_Priority                 object\n",
      "Payment_method                 object\n",
      "Order_DateTime         datetime64[ns]\n",
      "Year                            int32\n",
      "Month                           int32\n",
      "Day                             int32\n",
      "Week                           UInt32\n",
      "Weekday                        object\n",
      "Hour                            int32\n",
      "dtype: object\n"
     ]
    }
   ],
   "source": [
    "# Ensure numerical columns are proper data types\n",
    "numerical_columns = ['Customer_Id', 'Aging', 'Sales', 'Quantity', 'Discount', 'Profit', 'Shipping_Cost']\n",
    "for column in numerical_columns:\n",
    "    df_clean[column] = pd.to_numeric(df_clean[column], errors='coerce')\n",
    "\n",
    "print(\"Data types after conversion:\")\n",
    "print(df_clean.dtypes)"
   ]
  },
  {
   "cell_type": "markdown",
   "id": "20552670-e9ec-4003-9a7b-2c256f2341cf",
   "metadata": {},
   "source": [
    "#### Strategy for Missing Values\n",
    "\n",
    "Given the minimal missing data (less than 0.01% in any column), I've chosen targeted approaches for each column:\n",
    "\n",
    "**1. Handle missing Discount values**\n",
    "\n",
    "We will use the discount of a product on a given week of a year."
   ]
  },
  {
   "cell_type": "code",
   "execution_count": 9,
   "id": "84270f67-be5a-4e95-95be-15453d87e840",
   "metadata": {},
   "outputs": [
    {
     "name": "stdout",
     "output_type": "stream",
     "text": [
      "Filled missing discount for Tyre (Week: 31, Year: 2018) with: 0.2\n"
     ]
    }
   ],
   "source": [
    "# Find the product week and year with missing discount\n",
    "for idx, row in df_clean[df_clean['Discount'].isna()].iterrows():\n",
    "    missing_discount_product = row['Product']\n",
    "    missing_discount_week = row['Week']\n",
    "    missing_discount_year = row['Year']\n",
    "    \n",
    "    # Get discount for the same product in the same week\n",
    "    same_week_discount = df_clean[\n",
    "        (df_clean['Product'] == missing_discount_product) &\n",
    "        (df_clean['Week'] == missing_discount_week) &\n",
    "        (df_clean['Year'] == missing_discount_year) &\n",
    "        (df_clean['Discount'].notna())\n",
    "    ]['Discount']\n",
    "    \n",
    "    if len(same_week_discount) > 0:\n",
    "        # Use median of same week discounts\n",
    "        discount_fill_value = same_week_discount.median()\n",
    "    else:\n",
    "        # If no data for same week, then may be there is no discount for the product that week\n",
    "        discount_fill_value = 0\n",
    "    \n",
    "    df_clean.loc[idx, 'Discount'] = discount_fill_value\n",
    "    print(f\"Filled missing discount for {missing_discount_product} (Week: {missing_discount_week}, Year: {missing_discount_year}) with: {discount_fill_value}\")"
   ]
  },
  {
   "cell_type": "markdown",
   "id": "10db3406-09ce-4ce8-9e09-72808a925ff9",
   "metadata": {},
   "source": [
    "**2. Handle missing Quantity values**\n",
    "\n",
    "Use most frequent quantity ordered for a product"
   ]
  },
  {
   "cell_type": "code",
   "execution_count": 10,
   "id": "ce74d8ea-379e-4d46-9233-73f65840d07d",
   "metadata": {},
   "outputs": [
    {
     "name": "stdout",
     "output_type": "stream",
     "text": [
      "\n",
      "Missing quantity for products: ['Bike Tyres' 'Car Mat']\n",
      "Filled missing quantity for Bike Tyres with: 1.0\n",
      "Filled missing quantity for Car Mat with: 1.0\n"
     ]
    }
   ],
   "source": [
    "# Find the products with missing quantities\n",
    "missing_quantity_products = df_clean[df_clean['Quantity'].isna()]['Product'].unique()\n",
    "print(f\"\\nMissing quantity for products: {missing_quantity_products}\")\n",
    "\n",
    "for product in missing_quantity_products:\n",
    "    # Calculate typical quantity for this product\n",
    "    frequent_quantity = df_clean[df_clean['Product'] == product]['Quantity'].mode()\n",
    "    if len(frequent_quantity) > 0:\n",
    "        fill_quantity = frequent_quantity.iloc[0]\n",
    "    else:\n",
    "        # if no mode, use median\n",
    "        fill_quantity = df_clean[df_clean['Product'] == product]['Quantity'].median()\n",
    "\n",
    "    df_clean.loc[(df_clean['Quantity'].isna()) & (df_clean['Product'] == product), 'Quantity'] = fill_quantity\n",
    "    print(f\"Filled missing quantity for {product} with: {fill_quantity}\")"
   ]
  },
  {
   "cell_type": "markdown",
   "id": "819dec00-0224-497d-9cd6-29b9a6f2975d",
   "metadata": {},
   "source": [
    "**3. Handle missing Sales values**\n",
    "\n",
    "Sales column has unit price of the product. So, find price of product and use it to replace missing value"
   ]
  },
  {
   "cell_type": "code",
   "execution_count": 11,
   "id": "4515cd92-f8c0-4802-90d8-c2050fc052e8",
   "metadata": {},
   "outputs": [
    {
     "name": "stdout",
     "output_type": "stream",
     "text": [
      "\n",
      "Missing sales for product: Car Speakers\n",
      "Filled missing sales with: 211.0\n"
     ]
    }
   ],
   "source": [
    "# Find the product with missing sales\n",
    "missing_sales_product = df_clean[df_clean['Sales'].isna()]['Product'].iloc[0]\n",
    "print(f\"\\nMissing sales for product: {missing_sales_product}\")\n",
    "\n",
    "# Use median sales for this product\n",
    "sales_fill_value = df_clean[df_clean['Product'] == missing_sales_product]['Sales'].median()\n",
    "df_clean.loc[df_clean['Sales'].isna(), 'Sales'] = sales_fill_value\n",
    "print(f\"Filled missing sales with: {sales_fill_value}\")"
   ]
  },
  {
   "cell_type": "markdown",
   "id": "b3d6ffc4-e0d8-4450-9b30-3bfc36d8a445",
   "metadata": {},
   "source": [
    "**4. Handle missing Shipping Cost**\n",
    "    \n",
    "Shipping cost generally depends on product (its volume) and distance. \n",
    "As there is no information related to customer location in the dataset, we will use median shipping cost for a product."
   ]
  },
  {
   "cell_type": "code",
   "execution_count": 12,
   "id": "ecd0d657-e662-42a3-b357-a8b8c1e647ca",
   "metadata": {},
   "outputs": [
    {
     "name": "stdout",
     "output_type": "stream",
     "text": [
      "\n",
      "Missing shipping cost for product: Tyre\n",
      "Filled missing shipping cost with: 15.25\n"
     ]
    }
   ],
   "source": [
    "missing_shipping_product = df_clean[df_clean['Shipping_Cost'].isna()]['Product'].iloc[0]\n",
    "print(f\"\\nMissing shipping cost for product: {missing_shipping_product}\")\n",
    "\n",
    "# Use median shipping cost for this product\n",
    "shipping_fill_value = df_clean[df_clean['Product'] == missing_shipping_product]['Shipping_Cost'].median()\n",
    "df_clean.loc[df_clean['Shipping_Cost'].isna(), 'Shipping_Cost'] = shipping_fill_value\n",
    "print(f\"Filled missing shipping cost with: {shipping_fill_value}\")"
   ]
  },
  {
   "cell_type": "markdown",
   "id": "918b5f3b-f74b-4125-90e1-124dc7d0fce5",
   "metadata": {},
   "source": [
    "**5. Handle missing Aging**\n",
    "    \n",
    "Use median aging value based on Order_Priority"
   ]
  },
  {
   "cell_type": "code",
   "execution_count": 13,
   "id": "b1d07956-ac2f-4489-b438-47ea8dff05ba",
   "metadata": {},
   "outputs": [
    {
     "name": "stdout",
     "output_type": "stream",
     "text": [
      "\n",
      "Missing Aging for Order Priority: High\n",
      "Filled missing Aging with: 5.0\n"
     ]
    }
   ],
   "source": [
    "missing_aging_Order_Priority = df_clean[df_clean['Aging'].isna()]['Order_Priority'].iloc[0]\n",
    "print(f\"\\nMissing Aging for Order Priority: {missing_aging_Order_Priority}\")\n",
    "\n",
    "# Use median aging value based on Order_Priority\n",
    "aging_fill_value = df_clean[df_clean['Order_Priority'] == missing_aging_Order_Priority]['Aging'].median()\n",
    "df_clean.loc[df_clean['Aging'].isna(), 'Aging'] = aging_fill_value\n",
    "print(f\"Filled missing Aging with: {aging_fill_value}\")"
   ]
  },
  {
   "cell_type": "markdown",
   "id": "4e352b8d-8a96-496a-b4ae-c6219e1130ea",
   "metadata": {},
   "source": [
    "**6. Handle missing Order_Priority**\n",
    "\n",
    "Replace with 'Not Specified'"
   ]
  },
  {
   "cell_type": "code",
   "execution_count": 14,
   "id": "0a544b1c-e309-4170-9fab-114b5e18dd02",
   "metadata": {},
   "outputs": [],
   "source": [
    "df_clean['Order_Priority'].fillna('Not Specified', inplace=True)"
   ]
  },
  {
   "cell_type": "markdown",
   "id": "b843cdd7-74de-4cd3-9bbd-72f499e90723",
   "metadata": {},
   "source": [
    "### Cleaning Text Fields\n",
    "\n",
    "Text inconsistencies can cause grouping errors and misclassification. I'm standardizing all text fields to ensure consistency:"
   ]
  },
  {
   "cell_type": "code",
   "execution_count": 15,
   "id": "bf6fc057-ced5-4bc8-8aca-e106782a41b2",
   "metadata": {},
   "outputs": [
    {
     "name": "stdout",
     "output_type": "stream",
     "text": [
      "\n",
      "Standardized text values:\n",
      "\n",
      "Gender unique values: 2\n",
      "Gender\n",
      "Male      28138\n",
      "Female    23152\n",
      "Name: count, dtype: int64\n",
      "\n",
      "Device_Type unique values: 2\n",
      "Device_Type\n",
      "Web       47632\n",
      "Mobile     3658\n",
      "Name: count, dtype: int64\n",
      "\n",
      "Customer_Login_type unique values: 4\n",
      "Customer_Login_type\n",
      "Member          49097\n",
      "Guest            1993\n",
      "First Signup      173\n",
      "New                27\n",
      "Name: count, dtype: int64\n",
      "\n",
      "Product_Category unique values: 4\n",
      "Product_Category\n",
      "Fashion               25646\n",
      "Home & Furniture      15438\n",
      "Auto & Accessories     7505\n",
      "Electronic             2701\n",
      "Name: count, dtype: int64\n",
      "\n",
      "Product unique values: 42\n",
      "Product\n",
      "Suits           2332\n",
      "T - Shirts      2332\n",
      "Fossil Watch    2332\n",
      "Shirts          2332\n",
      "Jeans           2332\n",
      "Name: count, dtype: int64\n",
      "\n",
      "Order_Priority unique values: 5\n",
      "Order_Priority\n",
      "Medium           29433\n",
      "High             15499\n",
      "Critical          3932\n",
      "Low               2424\n",
      "Not Specified        2\n",
      "Name: count, dtype: int64\n",
      "\n",
      "Payment_method unique values: 5\n",
      "Payment_method\n",
      "Credit_Card    38137\n",
      "Money_Order     9629\n",
      "E_Wallet        2789\n",
      "Debit_Card       734\n",
      "Not_Defined        1\n",
      "Name: count, dtype: int64\n"
     ]
    }
   ],
   "source": [
    "# Standardize all text columns\n",
    "text_columns = ['Gender', 'Device_Type', 'Customer_Login_type', 'Product_Category', \n",
    "                'Product', 'Order_Priority', 'Payment_method']\n",
    "\n",
    "for column in text_columns:\n",
    "    df_clean[column] = df_clean[column].str.strip()\n",
    "    df_clean[column] = df_clean[column].str.title() # Standardize capitalization\n",
    "\n",
    "print(\"\\nStandardized text values:\")\n",
    "for column in text_columns:\n",
    "    print(f\"\\n{column} unique values: {df_clean[column].nunique()}\")\n",
    "    print(df_clean[column].value_counts().head())"
   ]
  },
  {
   "cell_type": "markdown",
   "id": "a40f1f4a-0faa-4ffd-b345-40057ffb4924",
   "metadata": {},
   "source": [
    "### Creating Enhanced Business Metrics\n",
    "\n",
    "**Building Accurate Financial Metrics:** Based on data investigation, I'm creating corrected financial columns that reflect true business performance:"
   ]
  },
  {
   "cell_type": "code",
   "execution_count": 16,
   "id": "53878b4c-04d1-4992-8ece-776a69b4aaaf",
   "metadata": {},
   "outputs": [],
   "source": [
    "# Renaming for clarity\n",
    "df_clean.rename(columns={'Sales': 'Unit_Price', 'Profit': 'Unit_Profit'}, inplace=True)\n",
    "\n",
    "# Create corrected financial columns\n",
    "df_clean['Total_Sales'] = df_clean['Unit_Price'] * df_clean['Quantity']\n",
    "df_clean['Total_Profit'] = df_clean['Unit_Profit'] * df_clean['Quantity']"
   ]
  },
  {
   "cell_type": "code",
   "execution_count": 17,
   "id": "5f442311-46e5-4c9a-8c3d-01aab5ba7a6e",
   "metadata": {},
   "outputs": [
    {
     "data": {
      "text/plain": [
       "0    37077_2018-01-02_10:56:33\n",
       "1    59173_2018-07-24_20:41:37\n",
       "2    41066_2018-11-08_08:38:49\n",
       "3    50741_2018-04-18_19:28:06\n",
       "4    53639_2018-08-13_21:18:39\n",
       "Name: Order_Id, dtype: object"
      ]
     },
     "execution_count": 17,
     "metadata": {},
     "output_type": "execute_result"
    }
   ],
   "source": [
    "# Create unique order identifiers\n",
    "df_clean['Order_Id'] = (\n",
    "    df_clean['Customer_Id'].astype(str) + '_' +\n",
    "    df_clean['Order_Date'].dt.strftime('%Y-%m-%d') + '_' +\n",
    "    df_clean['Time']\n",
    ")\n",
    "\n",
    "df_clean['Order_Id'].head()"
   ]
  },
  {
   "cell_type": "code",
   "execution_count": 18,
   "id": "826980c5-20b7-40cf-ae23-2f1c6e988c03",
   "metadata": {},
   "outputs": [],
   "source": [
    "# Calculate additional business metrics\n",
    "df_clean['Profit_Margin'] = (df_clean['Total_Profit'] / df_clean['Total_Sales'] * 100).round(2)\n",
    "df_clean['Discount_Amount'] = df_clean['Total_Sales'] * df_clean['Discount']\n",
    "df_clean['Net_Sales'] = df_clean['Total_Sales'] - df_clean['Discount_Amount']\n",
    "df_clean['Average_Item_Value'] = df_clean['Total_Sales'] / df_clean['Quantity']\n",
    "\n",
    "# Create customer value metrics\n",
    "df_clean['Revenue_After_Shipping'] = df_clean['Net_Sales'] - df_clean['Shipping_Cost']\n",
    "df_clean['Net_Profit_Margin'] = (df_clean['Total_Profit'] / df_clean['Net_Sales'] * 100).round(2)"
   ]
  },
  {
   "cell_type": "markdown",
   "id": "f290c525-6bfd-4b68-8bfc-0d34c991382e",
   "metadata": {},
   "source": [
    "#### Validating Transformations\n",
    "\n",
    "Quality assurance is crucial. Let's verify that transformations maintain data integrity and make business sense:"
   ]
  },
  {
   "cell_type": "code",
   "execution_count": 19,
   "id": "3c9993b7-332d-4b4a-9a22-aff81fa67d8c",
   "metadata": {},
   "outputs": [
    {
     "name": "stdout",
     "output_type": "stream",
     "text": [
      "\n",
      "Data Validation Results:\n",
      "                 Check                    Result\n",
      "0  Negative Quantities                         0\n",
      "1      Negative Prices                         0\n",
      "2    Invalid Discounts                         0\n",
      "3  Duplicate Order IDs                         0\n",
      "4           Date Range  2018-01-01 to 2018-12-30\n"
     ]
    }
   ],
   "source": [
    "# Validation checks\n",
    "validation_results = []\n",
    "\n",
    "# Check 1: No negative Quantities\n",
    "neg_quantity = df_clean[df_clean['Quantity'] < 0]\n",
    "validation_results.append((\"Negative Quantities\", len(neg_quantity)))\n",
    "\n",
    "# Check 2: No negative Prices\n",
    "neg_price = df_clean[df_clean['Unit_Price'] < 0]\n",
    "validation_results.append((\"Negative Prices\", len(neg_price)))\n",
    "\n",
    "# Check 3: Discount range validation (0-100%)\n",
    "invalid_discount = df_clean[(df_clean['Discount'] < 0) | (df_clean['Discount'] > 1)]\n",
    "validation_results.append((\"Invalid Discounts\", len(invalid_discount)))\n",
    "\n",
    "# Check 4: Order_ID uniqueness\n",
    "duplicate_orders = df_clean['Order_Id'].duplicated().sum()\n",
    "validation_results.append((\"Duplicate Order IDs\", duplicate_orders))\n",
    "\n",
    "# Check 5: Date range consistency\n",
    "date_range = f\"{df_clean['Order_Date'].min().date()} to {df_clean['Order_Date'].max().date()}\"\n",
    "validation_results.append((\"Date Range\", date_range))\n",
    "\n",
    "# Display validation results\n",
    "validation_df = pd.DataFrame(validation_results, columns=['Check', 'Result'])\n",
    "print(\"\\nData Validation Results:\")\n",
    "print(validation_df)"
   ]
  },
  {
   "cell_type": "code",
   "execution_count": 20,
   "id": "2da231b1-8502-4476-85de-958da806097e",
   "metadata": {},
   "outputs": [
    {
     "name": "stdout",
     "output_type": "stream",
     "text": [
      "\n",
      "Profit Scaling Validation (Tyre Product):\n",
      "          Unit_Profit  Total_Profit  Order_Id\n",
      "Quantity                                     \n",
      "1.00           153.51        153.51       484\n",
      "2.00           154.87        309.74        77\n",
      "3.00           150.17        450.51        59\n",
      "4.00           138.54        554.14       157\n",
      "5.00           133.36        666.81       116\n"
     ]
    }
   ],
   "source": [
    "# Verify profit scaling with example\n",
    "example_validation = df_clean[df_clean['Product'] == 'Tyre'].groupby('Quantity').agg({\n",
    "    'Unit_Profit': 'mean',\n",
    "    'Total_Profit': 'mean',\n",
    "    'Order_Id': 'count'\n",
    "}).round(2)\n",
    "\n",
    "print(\"\\nProfit Scaling Validation (Tyre Product):\")\n",
    "print(example_validation)"
   ]
  },
  {
   "cell_type": "markdown",
   "id": "c9b58d8c-03dd-49e6-bd1c-03990b7f0aad",
   "metadata": {},
   "source": [
    "#### Summary of Data Cleaning Process\n",
    "\n",
    "The systematic data cleaning has transformed the raw dataset into a reliable foundation for business analysis. Here's what is accomplished:"
   ]
  },
  {
   "cell_type": "code",
   "execution_count": 21,
   "id": "d63645d2-f6e4-45b6-94d3-b20a98719826",
   "metadata": {},
   "outputs": [
    {
     "name": "stdout",
     "output_type": "stream",
     "text": [
      "\n",
      "Cleaned Dataset Summary:\n",
      "                  Metric                     Value\n",
      "0          Total Records                     51290\n",
      "1       Unique Customers                     38997\n",
      "2        Unique Products                        42\n",
      "3     Product Categories                         4\n",
      "4             Date Range  2018-01-01 to 2018-12-30\n",
      "5          Total Revenue            $19,636,297.00\n",
      "6           Total Profit             $8,577,505.60\n",
      "7    Average Order Value                   $382.85\n",
      "8  Average Profit Margin                     42.5%\n"
     ]
    }
   ],
   "source": [
    "# Create a comprehensive summary\n",
    "summary_stats = {\n",
    "    'Total Records': len(df_clean),\n",
    "    'Unique Customers': df_clean['Customer_Id'].nunique(),\n",
    "    'Unique Products': df_clean['Product'].nunique(),\n",
    "    'Product Categories': df_clean['Product_Category'].nunique(),\n",
    "    'Date Range': f\"{df_clean['Order_Date'].min().date()} to {df_clean['Order_Date'].max().date()}\",\n",
    "    'Total Revenue': f\"${df_clean['Total_Sales'].sum():,.2f}\",\n",
    "    'Total Profit': f\"${df_clean['Total_Profit'].sum():,.2f}\",\n",
    "    'Average Order Value': f\"${df_clean['Total_Sales'].mean():,.2f}\",\n",
    "    'Average Profit Margin': f\"{df_clean['Profit_Margin'].mean():.1f}%\"\n",
    "}\n",
    "\n",
    "summary_df = pd.DataFrame(list(summary_stats.items()), columns=['Metric', 'Value'])\n",
    "print(\"\\nCleaned Dataset Summary:\")\n",
    "print(summary_df)"
   ]
  },
  {
   "cell_type": "code",
   "execution_count": 23,
   "id": "2c53bc1d-f668-4630-ba88-ded95d06db58",
   "metadata": {
    "scrolled": true
   },
   "outputs": [
    {
     "name": "stdout",
     "output_type": "stream",
     "text": [
      "\n",
      "Cleaned dataset saved as 'ecommerce_cleaned.parquet'\n",
      "Final dataset shape: (51290, 32)\n"
     ]
    }
   ],
   "source": [
    "# Save the cleaned dataset\n",
    "#df_clean.to_csv('ecommerce_cleaned.csv', index=False)\n",
    "df_clean.to_parquet('ecommerce_cleaned.parquet', index=False)\n",
    "print(\"\\nCleaned dataset saved as 'ecommerce_cleaned.parquet'\")\n",
    "print(f\"Final dataset shape: {df_clean.shape}\")"
   ]
  },
  {
   "cell_type": "code",
   "execution_count": null,
   "id": "222f0c30-4bd2-491a-9436-a69d4228aeec",
   "metadata": {},
   "outputs": [],
   "source": []
  }
 ],
 "metadata": {
  "kernelspec": {
   "display_name": "Python 3 (ipykernel)",
   "language": "python",
   "name": "python3"
  },
  "language_info": {
   "codemirror_mode": {
    "name": "ipython",
    "version": 3
   },
   "file_extension": ".py",
   "mimetype": "text/x-python",
   "name": "python",
   "nbconvert_exporter": "python",
   "pygments_lexer": "ipython3",
   "version": "3.11.12"
  }
 },
 "nbformat": 4,
 "nbformat_minor": 5
}
